{
 "cells": [
  {
   "cell_type": "markdown",
   "metadata": {},
   "source": [
    "# RAG 智能问答系统\n",
    "\n",
    "---\n",
    "\n",
    "通过RAG可以给大模型灌输一些客户自己的资料，然后让大模型能够尝试理解客户的自然提问，结合灌输的资料给出更合理、更精确的答案。接下来，我们将会整理一套美团的常见问题说明文档，整理给大模型，让大模型能够更好的理解美团的重要业务流程。\n",
    "\n",
    "> 说明：通常RAG更适合用于处理客户自己的，不太适合对互联网公开的资料。这个例子中，我们用互联网上的资料做为案例，仅仅只是用来介绍RAG的用法。"
   ]
  },
  {
   "cell_type": "markdown",
   "metadata": {},
   "source": [
    "## 1. RAG 基础流程\n",
    "\n",
    "虽然大模型也依然能够给出一个答案，但是，很显然，他并没有专门\"学习\"美团的业务知识，自然就无法针对美团的常见问题说明，给出比较理想的答案。\n",
    "\n",
    "那么，如何让大模型能够\"学习\"美团的业务知识呢？典型的方法有两种：\n",
    " \n",
    "1. 一种方法是微调，就是让大模型回炉进行一次学习，你可以理解为让一个已经毕业的博士，回炉重新学习美团的业务知识，通常像通义千问、deepseeek这样的大模型，经过复杂，庞大的学习过程，已经具备了非常好的理解能力和知识储备，这些称为预训练模型，pretraining。而微调就是在这些预训练模型的基础上，再投入少量的资源，让大模型继续学习。微调的过程，就是让大模型学习到我们自己收集的数据，让大模型\"学习\"到我们自己收集的数据，从而达到更好的理解能力。这种方式针对性比较强，对问题的立即感也能更精确。但是，随之而来的问题是成本还是比较高，而且实现的难度比较大。如果没有足够的功底，甚至可能让大模型产生倒退。\n",
    "\n",
    "2. 另一种方法就是RAG，Retrival-Augmented Generation 检索增强生成。这种方法就是在询问大模型问题时，先检索出跟问题可能相关的参考信息，然后再把问题跟参考信息一起输入给大模型，让大模型结合参考信息，给出更好的答案。你可以理解为我们去问一个专家询问相关业务问题时，带上业务手册，这样专家就不用提前学习额外的知识，只需要结合业务手册，就能快速给出针对性的帮助。这种方式成本比较低，也更适合处理那些涉及到大量外部数据的特定问题。因此，RAG也是目前企业用得做多的一种方法。\n",
    "\n",
    "> 通常，RAG和模型微调也是可以混合使用的，RAG是给大模型额外四肢，而模型微调是给大模型补脑子，两者相辅相成。\n",
    "\n",
    "RAG 的基础工作流程通常分为两个阶段：Indexing 索引阶段和 Retrieval 检索阶段。\n",
    "\n",
    "1. Indexing 索引阶段：\n",
    "\n",
    "这一阶段主要是要对相关文档进行预处理，形成知识库，便于后续检索。通常需要将各种形式的文档转化成为Document，然后将Document拆分成小段的Segments，然后将这些Segments进行Embedding向量化处理，并将结果保存到向量数据库当中，这样，后续的检索工作就可以直接使用向量数据库进行检索了。\n",
    "\n",
    "```mermaid\n",
    " graph LR\n",
    "     A[文档] --> B[Document]\n",
    "     B --> C[Segments]\n",
    "     C --> D[Embedding]\n",
    "     D --> E[向量数据库]\n",
    "```\n",
    "\n",
    "2. Retrieval 检索阶段：\n",
    "\n",
    "这一阶段主要是当用户提出一个问题时，可以到向量数据库中检索出跟用户的问题比较关联的Segment，把这些segment和用户的问题一起整理成完整的prompt，再发送给大模型，然后由大模型对信息金正整合，再给用户返回正确答案。\n",
    "\n",
    "> 例如可以定制这样的一个prompt模板：\n",
    "\n",
    "> prompt_template = \"\"\"你是一个问答机器人，你的任务是根据下述给定的已知信息回答用户问题。已知信息：{context} # {context} 就是检索出来的文档 用户问：{question} # {question} 就是用户的问题 如果已知信息不包含用户问题的答案，或者已知信息不足以回答用户的问题，请直接回复\"我无法回答您的问题\"。请不要输出已知信息中不包含的信息或答案。请用中文回答用户问题。\"\"\"\n"
   ]
  },
  {
   "cell_type": "markdown",
   "metadata": {},
   "source": [
    "## Indexing 索引阶段\n",
    "\n",
    "### 1. 加载并解析文档\n",
    "\n",
    "langchain中提供了非常多Document Loader工具，可以从PDF、HTML、MarkDown、JSON、CSV等各种格式的文档中加载数据，甚至还实现了非常多的扩展工具，可以从网页上加载数据。使用这些工具，可以很方便的加载文档，例如："
   ]
  },
  {
   "cell_type": "code",
   "execution_count": 3,
   "metadata": {},
   "outputs": [
    {
     "data": {
      "text/plain": [
       "[Document(metadata={'source': './example_data/question_answer.txt'}, page_content='1. 问题: 美团外卖配送费是如何计算的?\\n答案: 配送费根据配送距离、天气情况、高峰时段等因素综合计算,一般在3-8元不等。\\n\\n2. 问题: 如何申请美团外卖退款?\\n答案: 可以在订单详情页点击\"申请退款\",选择退款原因并上传相关凭证,等待商家审核。紧急情况可以联系美团客服处理。\\n\\n3. 问题: 美团外卖订单超时了怎么办?\\n答案: 如果超过预计送达时间,可以在APP查看骑手位置或致电骑手询问。如果严重延误可以申请赔付或退款。\\n\\n4. 问题: 美团外卖可以修改收货地址吗?\\n答案: 下单后如果订单还未被商家接单,可以点击订单详情中的\"修改地址\"进行修改。如果已被接单则无法修改。\\n\\n5. 问题: 如何成为美团外卖商家?\\n答案: 需要准备营业执照、食品经营许可证等资质,在美团商家版APP上提交入驻申请,通过审核后即可上线经营。\\n\\n6. 问题: 美团外卖骑手迟到了可以投诉吗?\\n答案: 可以。在订单详情页面点击\"投诉建议\",选择\"配送问题\"进行反馈,平台会进行处理并给予回复。\\n\\n7. 问题: 美团外卖红包怎么使用?\\n答案: 下单时在支付页面选择\"使用红包\",系统会自动显示可用的红包,选择合适的红包即可抵扣相应金额。\\n\\n8. 问题: 美团外卖订单送错了怎么办?\\n答案: 及时联系骑手说明情况,如果骑手已离开,可以联系商家或美团客服处理,一般可以重新配送或退款。\\n\\n9. 问题: 怎样加入美团外卖骑手团队?\\n答案: 需要年满18周岁,有电动车和智能手机,在美团骑手APP上注册并提交身份证、健康证等资料,通过培训考核后即可上岗。\\n\\n10. 问题: 美团外卖商家的评分是如何计算的?\\n答案: 商家评分由用户评价、配送时效、投诉率等多个维度综合计算得出,满分5星。评分会影响商家的排名展示和接单量。\\n\\n')]"
      ]
     },
     "execution_count": 3,
     "metadata": {},
     "output_type": "execute_result"
    }
   ],
   "source": [
    "from langchain_community.document_loaders import TextLoader\n",
    "\n",
    "loader = TextLoader(\"./example_data/question_answer.txt\", encoding=\"utf-8\")\n",
    "\n",
    "documents = loader.load()\n",
    "\n",
    "documents"
   ]
  },
  {
   "cell_type": "markdown",
   "metadata": {},
   "source": [
    "在LangChain中，TextLoader是BaseLoader的一个实现类。除了TextLoader外，还有非常多的实现类。例如，如果你的知识库文件比较多，你可以尝试使用DirectoryLoader，它会自动遍历的加载文件夹中的所有文件。"
   ]
  },
  {
   "cell_type": "code",
   "execution_count": 4,
   "metadata": {},
   "outputs": [
    {
     "name": "stderr",
     "output_type": "stream",
     "text": [
      "  0%|          | 0/1 [00:00<?, ?it/s]Error loading file example_data\\question_answer.txt\n"
     ]
    },
    {
     "ename": "RuntimeError",
     "evalue": "Error loading example_data\\question_answer.txt",
     "output_type": "error",
     "traceback": [
      "\u001b[31m---------------------------------------------------------------------------\u001b[39m",
      "\u001b[31mUnicodeDecodeError\u001b[39m                        Traceback (most recent call last)",
      "\u001b[36mFile \u001b[39m\u001b[32mf:\\Project\\Learn\\python-tour\\.venv\\Lib\\site-packages\\langchain_community\\document_loaders\\text.py:43\u001b[39m, in \u001b[36mTextLoader.lazy_load\u001b[39m\u001b[34m(self)\u001b[39m\n\u001b[32m     42\u001b[39m     \u001b[38;5;28;01mwith\u001b[39;00m \u001b[38;5;28mopen\u001b[39m(\u001b[38;5;28mself\u001b[39m.file_path, encoding=\u001b[38;5;28mself\u001b[39m.encoding) \u001b[38;5;28;01mas\u001b[39;00m f:\n\u001b[32m---> \u001b[39m\u001b[32m43\u001b[39m         text = \u001b[43mf\u001b[49m\u001b[43m.\u001b[49m\u001b[43mread\u001b[49m\u001b[43m(\u001b[49m\u001b[43m)\u001b[49m\n\u001b[32m     44\u001b[39m \u001b[38;5;28;01mexcept\u001b[39;00m \u001b[38;5;167;01mUnicodeDecodeError\u001b[39;00m \u001b[38;5;28;01mas\u001b[39;00m e:\n",
      "\u001b[31mUnicodeDecodeError\u001b[39m: 'gbk' codec can't decode byte 0xae in position 5: illegal multibyte sequence",
      "\nThe above exception was the direct cause of the following exception:\n",
      "\u001b[31mRuntimeError\u001b[39m                              Traceback (most recent call last)",
      "\u001b[36mCell\u001b[39m\u001b[36m \u001b[39m\u001b[32mIn[4]\u001b[39m\u001b[32m, line 5\u001b[39m\n\u001b[32m      1\u001b[39m \u001b[38;5;28;01mfrom\u001b[39;00m\u001b[38;5;250m \u001b[39m\u001b[34;01mlangchain_community\u001b[39;00m\u001b[34;01m.\u001b[39;00m\u001b[34;01mdocument_loaders\u001b[39;00m\u001b[38;5;250m \u001b[39m\u001b[38;5;28;01mimport\u001b[39;00m DirectoryLoader, TextLoader\n\u001b[32m      3\u001b[39m directLoader = DirectoryLoader(\u001b[33m\"\u001b[39m\u001b[33m./example_data\u001b[39m\u001b[33m\"\u001b[39m, glob=\u001b[33m\"\u001b[39m\u001b[33m**/*.txt\u001b[39m\u001b[33m\"\u001b[39m, loader_cls=TextLoader, show_progress=\u001b[38;5;28;01mTrue\u001b[39;00m)\n\u001b[32m----> \u001b[39m\u001b[32m5\u001b[39m \u001b[43mdirectLoader\u001b[49m\u001b[43m.\u001b[49m\u001b[43mload\u001b[49m\u001b[43m(\u001b[49m\u001b[43m)\u001b[49m\n",
      "\u001b[36mFile \u001b[39m\u001b[32mf:\\Project\\Learn\\python-tour\\.venv\\Lib\\site-packages\\langchain_community\\document_loaders\\directory.py:117\u001b[39m, in \u001b[36mDirectoryLoader.load\u001b[39m\u001b[34m(self)\u001b[39m\n\u001b[32m    115\u001b[39m \u001b[38;5;28;01mdef\u001b[39;00m\u001b[38;5;250m \u001b[39m\u001b[34mload\u001b[39m(\u001b[38;5;28mself\u001b[39m) -> List[Document]:\n\u001b[32m    116\u001b[39m \u001b[38;5;250m    \u001b[39m\u001b[33;03m\"\"\"Load documents.\"\"\"\u001b[39;00m\n\u001b[32m--> \u001b[39m\u001b[32m117\u001b[39m     \u001b[38;5;28;01mreturn\u001b[39;00m \u001b[38;5;28;43mlist\u001b[39;49m\u001b[43m(\u001b[49m\u001b[38;5;28;43mself\u001b[39;49m\u001b[43m.\u001b[49m\u001b[43mlazy_load\u001b[49m\u001b[43m(\u001b[49m\u001b[43m)\u001b[49m\u001b[43m)\u001b[49m\n",
      "\u001b[36mFile \u001b[39m\u001b[32mf:\\Project\\Learn\\python-tour\\.venv\\Lib\\site-packages\\langchain_community\\document_loaders\\directory.py:195\u001b[39m, in \u001b[36mDirectoryLoader.lazy_load\u001b[39m\u001b[34m(self)\u001b[39m\n\u001b[32m    193\u001b[39m \u001b[38;5;28;01melse\u001b[39;00m:\n\u001b[32m    194\u001b[39m     \u001b[38;5;28;01mfor\u001b[39;00m i \u001b[38;5;129;01min\u001b[39;00m items:\n\u001b[32m--> \u001b[39m\u001b[32m195\u001b[39m         \u001b[38;5;28;01myield from\u001b[39;00m \u001b[38;5;28mself\u001b[39m._lazy_load_file(i, p, pbar)\n\u001b[32m    197\u001b[39m \u001b[38;5;28;01mif\u001b[39;00m pbar:\n\u001b[32m    198\u001b[39m     pbar.close()\n",
      "\u001b[36mFile \u001b[39m\u001b[32mf:\\Project\\Learn\\python-tour\\.venv\\Lib\\site-packages\\langchain_community\\document_loaders\\directory.py:233\u001b[39m, in \u001b[36mDirectoryLoader._lazy_load_file\u001b[39m\u001b[34m(self, item, path, pbar)\u001b[39m\n\u001b[32m    231\u001b[39m     \u001b[38;5;28;01melse\u001b[39;00m:\n\u001b[32m    232\u001b[39m         logger.error(\u001b[33mf\u001b[39m\u001b[33m\"\u001b[39m\u001b[33mError loading file \u001b[39m\u001b[38;5;132;01m{\u001b[39;00m\u001b[38;5;28mstr\u001b[39m(item)\u001b[38;5;132;01m}\u001b[39;00m\u001b[33m\"\u001b[39m)\n\u001b[32m--> \u001b[39m\u001b[32m233\u001b[39m         \u001b[38;5;28;01mraise\u001b[39;00m e\n\u001b[32m    234\u001b[39m \u001b[38;5;28;01mfinally\u001b[39;00m:\n\u001b[32m    235\u001b[39m     \u001b[38;5;28;01mif\u001b[39;00m pbar:\n",
      "\u001b[36mFile \u001b[39m\u001b[32mf:\\Project\\Learn\\python-tour\\.venv\\Lib\\site-packages\\langchain_community\\document_loaders\\directory.py:223\u001b[39m, in \u001b[36mDirectoryLoader._lazy_load_file\u001b[39m\u001b[34m(self, item, path, pbar)\u001b[39m\n\u001b[32m    221\u001b[39m loader = \u001b[38;5;28mself\u001b[39m.loader_cls(\u001b[38;5;28mstr\u001b[39m(item), **\u001b[38;5;28mself\u001b[39m.loader_kwargs)\n\u001b[32m    222\u001b[39m \u001b[38;5;28;01mtry\u001b[39;00m:\n\u001b[32m--> \u001b[39m\u001b[32m223\u001b[39m \u001b[43m    \u001b[49m\u001b[38;5;28;43;01mfor\u001b[39;49;00m\u001b[43m \u001b[49m\u001b[43msubdoc\u001b[49m\u001b[43m \u001b[49m\u001b[38;5;129;43;01min\u001b[39;49;00m\u001b[43m \u001b[49m\u001b[43mloader\u001b[49m\u001b[43m.\u001b[49m\u001b[43mlazy_load\u001b[49m\u001b[43m(\u001b[49m\u001b[43m)\u001b[49m\u001b[43m:\u001b[49m\n\u001b[32m    224\u001b[39m \u001b[43m        \u001b[49m\u001b[38;5;28;43;01myield\u001b[39;49;00m\u001b[43m \u001b[49m\u001b[43msubdoc\u001b[49m\n\u001b[32m    225\u001b[39m \u001b[38;5;28;01mexcept\u001b[39;00m \u001b[38;5;167;01mNotImplementedError\u001b[39;00m:\n",
      "\u001b[36mFile \u001b[39m\u001b[32mf:\\Project\\Learn\\python-tour\\.venv\\Lib\\site-packages\\langchain_community\\document_loaders\\text.py:56\u001b[39m, in \u001b[36mTextLoader.lazy_load\u001b[39m\u001b[34m(self)\u001b[39m\n\u001b[32m     54\u001b[39m                 \u001b[38;5;28;01mcontinue\u001b[39;00m\n\u001b[32m     55\u001b[39m     \u001b[38;5;28;01melse\u001b[39;00m:\n\u001b[32m---> \u001b[39m\u001b[32m56\u001b[39m         \u001b[38;5;28;01mraise\u001b[39;00m \u001b[38;5;167;01mRuntimeError\u001b[39;00m(\u001b[33mf\u001b[39m\u001b[33m\"\u001b[39m\u001b[33mError loading \u001b[39m\u001b[38;5;132;01m{\u001b[39;00m\u001b[38;5;28mself\u001b[39m.file_path\u001b[38;5;132;01m}\u001b[39;00m\u001b[33m\"\u001b[39m) \u001b[38;5;28;01mfrom\u001b[39;00m\u001b[38;5;250m \u001b[39m\u001b[34;01me\u001b[39;00m\n\u001b[32m     57\u001b[39m \u001b[38;5;28;01mexcept\u001b[39;00m \u001b[38;5;167;01mException\u001b[39;00m \u001b[38;5;28;01mas\u001b[39;00m e:\n\u001b[32m     58\u001b[39m     \u001b[38;5;28;01mraise\u001b[39;00m \u001b[38;5;167;01mRuntimeError\u001b[39;00m(\u001b[33mf\u001b[39m\u001b[33m\"\u001b[39m\u001b[33mError loading \u001b[39m\u001b[38;5;132;01m{\u001b[39;00m\u001b[38;5;28mself\u001b[39m.file_path\u001b[38;5;132;01m}\u001b[39;00m\u001b[33m\"\u001b[39m) \u001b[38;5;28;01mfrom\u001b[39;00m\u001b[38;5;250m \u001b[39m\u001b[34;01me\u001b[39;00m\n",
      "\u001b[31mRuntimeError\u001b[39m: Error loading example_data\\question_answer.txt"
     ]
    }
   ],
   "source": [
    "from langchain_community.document_loaders import DirectoryLoader, TextLoader\n",
    "\n",
    "directLoader = DirectoryLoader(\"./example_data\", glob=\"**/*.txt\", loader_cls=TextLoader, show_progress=True)\n",
    "\n",
    "directLoader.load()"
   ]
  },
  {
   "cell_type": "markdown",
   "metadata": {},
   "source": [
    "### 2. 切分文档\n",
    "\n",
    "接下来，需要将Documents中的文件切分成一个个比较独立的Segments。一个Segments表示一个比较独立的知识片段。例如，对于我们这个示例，可以把一个问答就当成一个segment。实现时，就是按照“\\n\\n”两个换行符进行切分。 "
   ]
  },
  {
   "cell_type": "code",
   "execution_count": 4,
   "metadata": {},
   "outputs": [
    {
     "name": "stdout",
     "output_type": "stream",
     "text": [
      "2\n",
      "1. 问题: 美团外卖配送费是如何计算的?\n",
      "答案: 配送费根据配送距离、天气情况、高峰时段等因素综合计算,一般在3-8元不等。\n",
      "\n",
      "2. 问题: 如何申请美团外卖退款?\n",
      "答案: 可以在订单详情页点击\"申请退款\",选择退款原因并上传相关凭证,等待商家审核。紧急情况可以联系美团客服处理。\n",
      "\n",
      "3. 问题: 美团外卖订单超时了怎么办?\n",
      "答案: 如果超过预计送达时间,可以在APP查看骑手位置或致电骑手询问。如果严重延误可以申请赔付或退款。\n",
      "\n",
      "4. 问题: 美团外卖可以修改收货地址吗?\n",
      "答案: 下单后如果订单还未被商家接单,可以点击订单详情中的\"修改地址\"进行修改。如果已被接单则无法修改。\n",
      "\n",
      "5. 问题: 如何成为美团外卖商家?\n",
      "答案: 需要准备营业执照、食品经营许可证等资质,在美团商家版APP上提交入驻申请,通过审核后即可上线经营。\n",
      "\n",
      "6. 问题: 美团外卖骑手迟到了可以投诉吗?\n",
      "答案: 可以。在订单详情页面点击\"投诉建议\",选择\"配送问题\"进行反馈,平台会进行处理并给予回复。\n",
      "-----------------\n",
      "7. 问题: 美团外卖红包怎么使用?\n",
      "答案: 下单时在支付页面选择\"使用红包\",系统会自动显示可用的红包,选择合适的红包即可抵扣相应金额。\n",
      "\n",
      "8. 问题: 美团外卖订单送错了怎么办?\n",
      "答案: 及时联系骑手说明情况,如果骑手已离开,可以联系商家或美团客服处理,一般可以重新配送或退款。\n",
      "\n",
      "9. 问题: 怎样加入美团外卖骑手团队?\n",
      "答案: 需要年满18周岁,有电动车和智能手机,在美团骑手APP上注册并提交身份证、健康证等资料,通过培训考核后即可上岗。\n",
      "\n",
      "10. 问题: 美团外卖商家的评分是如何计算的?\n",
      "答案: 商家评分由用户评价、配送时效、投诉率等多个维度综合计算得出,满分5星。评分会影响商家的排名展示和接单量。\n",
      "-----------------\n"
     ]
    }
   ],
   "source": [
    "from langchain_text_splitters import CharacterTextSplitter\n",
    "from langchain_community.document_loaders import TextLoader\n",
    "\n",
    "loader = TextLoader(\"./example_data/question_answer.txt\", encoding=\"utf-8\")\n",
    "\n",
    "documents = loader.load()\n",
    "\n",
    "# 切分文档\n",
    "text_splitters = CharacterTextSplitter(chunk_size=500, chunk_overlap=0, separator=\"\\n\\n\", keep_separator=True)\n",
    "\n",
    "segments = text_splitters.split_documents(documents)\n",
    "\n",
    "print(len(segments))\n",
    "\n",
    "for segment in segments:\n",
    "    print(segment.page_content)\n",
    "    print('-----------------')"
   ]
  },
  {
   "cell_type": "markdown",
   "metadata": {},
   "source": [
    "测试时，你会发现，CharacterTextSplitter组件切分出来的结果可能和预期结果相比没有那么精确。文档中有 10 个问答条目，而切分的结果只有 2 个。这是因为在做RAG文档切分时，通常我们并不需要像传统数据库那样严格的切分文档。最终基于大模型强大的理解能力，即便不是很合理的拆分，也能得到比较好的效果。当然，如果想要按照每个单独的问答进行严格的切分，也不是没有办法。我们也可以自行切分内容。 "
   ]
  },
  {
   "cell_type": "code",
   "execution_count": 6,
   "metadata": {},
   "outputs": [
    {
     "name": "stdout",
     "output_type": "stream",
     "text": [
      "10\n",
      "1. 问题: 美团外卖配送费是如何计算的?\n",
      "答案: 配送费根据配送距离、天气情况、高峰时段等因素综合计算,一般在3-8元不等。\n",
      "-----------------\n",
      "2. 问题: 如何申请美团外卖退款?\n",
      "答案: 可以在订单详情页点击\"申请退款\",选择退款原因并上传相关凭证,等待商家审核。紧急情况可以联系美团客服处理。\n",
      "-----------------\n",
      "3. 问题: 美团外卖订单超时了怎么办?\n",
      "答案: 如果超过预计送达时间,可以在APP查看骑手位置或致电骑手询问。如果严重延误可以申请赔付或退款。\n",
      "-----------------\n",
      "4. 问题: 美团外卖可以修改收货地址吗?\n",
      "答案: 下单后如果订单还未被商家接单,可以点击订单详情中的\"修改地址\"进行修改。如果已被接单则无法修改。\n",
      "-----------------\n",
      "5. 问题: 如何成为美团外卖商家?\n",
      "答案: 需要准备营业执照、食品经营许可证等资质,在美团商家版APP上提交入驻申请,通过审核后即可上线经营。\n",
      "-----------------\n",
      "6. 问题: 美团外卖骑手迟到了可以投诉吗?\n",
      "答案: 可以。在订单详情页面点击\"投诉建议\",选择\"配送问题\"进行反馈,平台会进行处理并给予回复。\n",
      "-----------------\n",
      "7. 问题: 美团外卖红包怎么使用?\n",
      "答案: 下单时在支付页面选择\"使用红包\",系统会自动显示可用的红包,选择合适的红包即可抵扣相应金额。\n",
      "-----------------\n",
      "8. 问题: 美团外卖订单送错了怎么办?\n",
      "答案: 及时联系骑手说明情况,如果骑手已离开,可以联系商家或美团客服处理,一般可以重新配送或退款。\n",
      "-----------------\n",
      "9. 问题: 怎样加入美团外卖骑手团队?\n",
      "答案: 需要年满18周岁,有电动车和智能手机,在美团骑手APP上注册并提交身份证、健康证等资料,通过培训考核后即可上岗。\n",
      "-----------------\n",
      "10. 问题: 美团外卖商家的评分是如何计算的?\n",
      "答案: 商家评分由用户评价、配送时效、投诉率等多个维度综合计算得出,满分5星。评分会影响商家的排名展示和接单量。\n",
      "-----------------\n"
     ]
    }
   ],
   "source": [
    "import re\n",
    "from langchain_text_splitters import CharacterTextSplitter\n",
    "\n",
    "loader = TextLoader(\"./example_data/question_answer.txt\", encoding=\"utf-8\")\n",
    "\n",
    "documents = loader.load()\n",
    "\n",
    "# 切分文档\n",
    "text_splitters = CharacterTextSplitter(chunk_size=500, chunk_overlap=0, separator=\"\\n\\n\", keep_separator=True)\n",
    "\n",
    "# 自行拆分文档\n",
    "texts = re.split(r\"\\n\\n\", documents[0].page_content)\n",
    "\n",
    "# 将文档片段转换为 documents\n",
    "\n",
    "segment_documents = text_splitters.create_documents(texts)\n",
    "\n",
    "print(len(segment_documents))\n",
    "\n",
    "for segment in segment_documents:\n",
    "    print(segment.page_content)\n",
    "    print('-----------------')"
   ]
  },
  {
   "cell_type": "markdown",
   "metadata": {},
   "source": [
    "### 3. 文本向量化 + 保存向量数据库\n",
    "\n",
    "切分出我们需要的知识条目后，就可以对文本进行向量化，并将这些向量化的结果保存到向量数据库当中。这里还是以之前介绍过的Redis作为示例 "
   ]
  },
  {
   "cell_type": "code",
   "execution_count": 13,
   "metadata": {},
   "outputs": [
    {
     "data": {
      "text/plain": [
       "['meituan_index:01JSF79D5BAGH4H05MQJEFEMNC',\n",
       " 'meituan_index:01JSF79D5BJNYD46PA3K0PJ9H1',\n",
       " 'meituan_index:01JSF79D5BVK3ZVF9H326MB8BN',\n",
       " 'meituan_index:01JSF79D5BNF17XT050ZS1194T',\n",
       " 'meituan_index:01JSF79D5B2GBW7NBFE1JNB982',\n",
       " 'meituan_index:01JSF79D5B8S3QKMVFVHKYGY3G',\n",
       " 'meituan_index:01JSF79D5BN9FD8TY8J4DX5DQA',\n",
       " 'meituan_index:01JSF79D5BCRBYW2NA93ABTH0D',\n",
       " 'meituan_index:01JSF79D5BFQRPKFVW33MMC1MB',\n",
       " 'meituan_index:01JSF79D5B71XBZ49TAER644ZJ']"
      ]
     },
     "execution_count": 13,
     "metadata": {},
     "output_type": "execute_result"
    }
   ],
   "source": [
    "import os\n",
    "import re\n",
    "from dotenv import load_dotenv\n",
    "from langchain_openai import OpenAIEmbeddings\n",
    "from langchain_redis import RedisConfig, RedisVectorStore\n",
    "from langchain_text_splitters import CharacterTextSplitter\n",
    "\n",
    "load_dotenv()\n",
    "\n",
    "loader = TextLoader(\"./example_data/question_answer.txt\", encoding=\"utf-8\")\n",
    "\n",
    "documents = loader.load()\n",
    "\n",
    "# 切分文档\n",
    "text_splitters = CharacterTextSplitter(chunk_size=500, chunk_overlap=0, separator=\"\\n\\n\", keep_separator=True)\n",
    "\n",
    "# 自行拆分文档\n",
    "texts = re.split(r\"\\n\\n\", documents[0].page_content)\n",
    "\n",
    "# 将文档片段转换为 documents\n",
    "\n",
    "segment_documents = text_splitters.create_documents(texts)\n",
    "\n",
    "# 构建向量化模型\n",
    "embedding_model = OpenAIEmbeddings(model=\"text-embedding-3-large\")\n",
    "\n",
    "# 使用 Redis 构建向量数据库\n",
    "redis_url = \"redis://localhost:6379\"\n",
    "\n",
    "redis_config = RedisConfig(\n",
    "    index_name=\"meituan_index\",\n",
    "    redis_url=redis_url,\n",
    "    distance_metric=\"COSINE\"\n",
    ")\n",
    "\n",
    "vector_store = RedisVectorStore(embedding_model, config=redis_config)\n",
    "\n",
    "# 将文档保存到向量数据库中\n",
    "vector_store.add_documents(segment_documents)"
   ]
  },
  {
   "cell_type": "markdown",
   "metadata": {},
   "source": [
    "到这里就完成了 RAG 的第一个阶段，Indexing 索引阶段。也就是说知识库内容处理完成。接下来就可以进入第二个阶段 Retrival，对客户问题做检索增强了。最后，把这些代码整合到一起，总结一下 RAG 建立本地消息索引的过程。"
   ]
  },
  {
   "cell_type": "markdown",
   "metadata": {},
   "source": [
    "## Retrival 检索增强阶段\n",
    "\n",
    "在这个阶段，主要是要围绕客户提出的问题做一些补充和优化。在接收到用户的一个问题后，我们需要先到向量数据库中去检索一下跟用户提出的问题相关的知识条目。这样未来就可以把用户的问题和本地知识库中相关的知识条目一起发给大模型，让大模型综合考虑之后，给出一个理想的答案。 "
   ]
  },
  {
   "cell_type": "markdown",
   "metadata": {},
   "source": [
    "### 4. 检索相关信息\n",
    "\n",
    "比如，用户询问“订单超时了怎么办”这样的问题，我们就需要先到Redis中检索一下跟这个问题相关的知识条目有哪些。 "
   ]
  },
  {
   "cell_type": "code",
   "execution_count": 14,
   "metadata": {},
   "outputs": [
    {
     "name": "stdout",
     "output_type": "stream",
     "text": [
      "\u001b[32m01:04:23\u001b[0m \u001b[34mredisvl.index.index\u001b[0m \u001b[1;30mINFO\u001b[0m   Index already exists, not overwriting.\n"
     ]
    },
    {
     "data": {
      "text/plain": [
       "[Document(metadata={}, page_content='3. 问题: 美团外卖订单超时了怎么办?\\n答案: 如果超过预计送达时间,可以在APP查看骑手位置或致电骑手询问。如果严重延误可以申请赔付或退款。'),\n",
       " Document(metadata={}, page_content='8. 问题: 美团外卖订单送错了怎么办?\\n答案: 及时联系骑手说明情况,如果骑手已离开,可以联系商家或美团客服处理,一般可以重新配送或退款。'),\n",
       " Document(metadata={}, page_content='2. 问题: 如何申请美团外卖退款?\\n答案: 可以在订单详情页点击\"申请退款\",选择退款原因并上传相关凭证,等待商家审核。紧急情况可以联系美团客服处理。'),\n",
       " Document(metadata={}, page_content='6. 问题: 美团外卖骑手迟到了可以投诉吗?\\n答案: 可以。在订单详情页面点击\"投诉建议\",选择\"配送问题\"进行反馈,平台会进行处理并给予回复。'),\n",
       " Document(metadata={}, page_content='4. 问题: 美团外卖可以修改收货地址吗?\\n答案: 下单后如果订单还未被商家接单,可以点击订单详情中的\"修改地址\"进行修改。如果已被接单则无法修改。')]"
      ]
     },
     "execution_count": 14,
     "metadata": {},
     "output_type": "execute_result"
    }
   ],
   "source": [
    "from dotenv import load_dotenv\n",
    "from langchain_openai import OpenAIEmbeddings\n",
    "from langchain_redis import RedisConfig, RedisVectorStore\n",
    "\n",
    "load_dotenv()\n",
    "\n",
    "# 构建向量化模型\n",
    "embedding_model = OpenAIEmbeddings(model=\"text-embedding-3-large\")\n",
    "\n",
    "# 使用 Redis 向量数据库\n",
    "redis_url = \"redis://localhost:6379\"\n",
    "\n",
    "redis_config = RedisConfig(\n",
    "    index_name=\"meituan_index\",\n",
    "    redis_url=redis_url,\n",
    "    distance_metric=\"COSINE\"\n",
    ")\n",
    "\n",
    "vector_store = RedisVectorStore(embedding_model, config=redis_config)\n",
    "\n",
    "retriever = vector_store.as_retriever();\n",
    "\n",
    "relative_segments = retriever.invoke('订单超时了怎么办', k=5)\n",
    "\n",
    "relative_segments"
   ]
  },
  {
   "cell_type": "markdown",
   "metadata": {},
   "source": [
    "### 5. 构建 Prompt 提示词\n",
    "\n",
    "查询出跟用户问题相关的“知识”后，就需要将用户的问题和相关的“知识”整合到一起，才能发给大模型。"
   ]
  },
  {
   "cell_type": "code",
   "execution_count": 15,
   "metadata": {},
   "outputs": [
    {
     "name": "stdout",
     "output_type": "stream",
     "text": [
      "\u001b[32m01:12:50\u001b[0m \u001b[34mredisvl.index.index\u001b[0m \u001b[1;30mINFO\u001b[0m   Index already exists, not overwriting.\n"
     ]
    },
    {
     "data": {
      "text/plain": [
       "ChatPromptValue(messages=[HumanMessage(content='你是一个答疑机器人，你的任务是根据下面已知信息回答用户的问题。\\n     已知信息：[\\'3. 问题: 美团外卖订单超时了怎么办?\\\\n答案: 如果超过预计送达时间,可以在APP查看骑手位置或致电骑手询问。如果严重延误可以申请赔付或退款。\\', \\'8. 问题: 美团外卖订单送错了怎么办?\\\\n答案: 及时联系骑手说明情况,如果骑手已离开,可以联系商家或美团客服处理,一般可以重新配送或退款。\\', \\'2. 问题: 如何申请美团外卖退款?\\\\n答案: 可以在订单详情页点击\"申请退款\",选择退款原因并上传相关凭证,等待商家审核。紧急情况可以联系美团客服处理。\\', \\'6. 问题: 美团外卖骑手迟到了可以投诉吗?\\\\n答案: 可以。在订单详情页面点击\"投诉建议\",选择\"配送问题\"进行反馈,平台会进行处理并给予回复。\\', \\'4. 问题: 美团外卖可以修改收货地址吗?\\\\n答案: 下单后如果订单还未被商家接单,可以点击订单详情中的\"修改地址\"进行修改。如果已被接单则无法修改。\\']\\n     用户问题：订单超时了怎么办\\n     如果已知信息不包含用户的答案，或者已知信息不足以回答用户的问题，请直接回复“我无法回答您的问题”。\\n     ', additional_kwargs={}, response_metadata={})])"
      ]
     },
     "execution_count": 15,
     "metadata": {},
     "output_type": "execute_result"
    }
   ],
   "source": [
    "from langchain_core.prompts import ChatPromptTemplate\n",
    "from dotenv import load_dotenv\n",
    "from langchain_openai import OpenAIEmbeddings\n",
    "from langchain_redis import RedisConfig, RedisVectorStore\n",
    "\n",
    "load_dotenv()\n",
    "\n",
    "# 构建向量化模型\n",
    "embedding_model = OpenAIEmbeddings(model=\"text-embedding-3-large\")\n",
    "\n",
    "# 使用 Redis 向量数据库\n",
    "redis_url = \"redis://localhost:6379\"\n",
    "\n",
    "redis_config = RedisConfig(\n",
    "    index_name=\"meituan_index\",\n",
    "    redis_url=redis_url,\n",
    "    distance_metric=\"COSINE\"\n",
    ")\n",
    "\n",
    "vector_store = RedisVectorStore(embedding_model, config=redis_config)\n",
    "\n",
    "retriever = vector_store.as_retriever();\n",
    "\n",
    "relative_segments = retriever.invoke('订单超时了怎么办', k=5)\n",
    "\n",
    "prompt_template = ChatPromptTemplate.from_messages([\n",
    "    (\"human\", \"\"\"你是一个答疑机器人，你的任务是根据下面已知信息回答用户的问题。\n",
    "     已知信息：{context}\n",
    "     用户问题：{question}\n",
    "     如果已知信息不包含用户的答案，或者已知信息不足以回答用户的问题，请直接回复“我无法回答您的问题”。\n",
    "     \"\"\")\n",
    "])\n",
    "\n",
    "text = []\n",
    "\n",
    "for segment in relative_segments:\n",
    "    text.append(segment.page_content)\n",
    "\n",
    "prompt = prompt_template.invoke({ \"context\": text, \"question\": \"订单超时了怎么办\" })\n",
    "\n",
    "prompt"
   ]
  },
  {
   "cell_type": "markdown",
   "metadata": {},
   "source": [
    "### 6. 调用大模型\n",
    "\n",
    "将包含背景知识和用户问题的 Prompt 发送给大模型"
   ]
  },
  {
   "cell_type": "code",
   "execution_count": 18,
   "metadata": {},
   "outputs": [
    {
     "name": "stdout",
     "output_type": "stream",
     "text": [
      "\u001b[32m01:19:34\u001b[0m \u001b[34mredisvl.index.index\u001b[0m \u001b[1;30mINFO\u001b[0m   Index already exists, not overwriting.\n"
     ]
    },
    {
     "data": {
      "text/plain": [
       "'如果订单超时了，可以在APP查看骑手位置或致电骑手询问。如果严重延误，可以申请赔付或退款。'"
      ]
     },
     "execution_count": 18,
     "metadata": {},
     "output_type": "execute_result"
    }
   ],
   "source": [
    "from langchain_core.prompts import ChatPromptTemplate\n",
    "from dotenv import load_dotenv\n",
    "from langchain_openai import OpenAIEmbeddings, ChatOpenAI\n",
    "from langchain_redis import RedisConfig, RedisVectorStore\n",
    "\n",
    "load_dotenv()\n",
    "\n",
    "# 构建向量化模型\n",
    "embedding_model = OpenAIEmbeddings(model=\"text-embedding-3-large\")\n",
    "\n",
    "# 使用 Redis 向量数据库\n",
    "redis_url = \"redis://localhost:6379\"\n",
    "\n",
    "redis_config = RedisConfig(\n",
    "    index_name=\"meituan_index\",\n",
    "    redis_url=redis_url,\n",
    "    distance_metric=\"COSINE\"\n",
    ")\n",
    "\n",
    "vector_store = RedisVectorStore(embedding_model, config=redis_config)\n",
    "\n",
    "retriever = vector_store.as_retriever();\n",
    "\n",
    "relative_segments = retriever.invoke('订单超时了怎么办', k=5)\n",
    "\n",
    "prompt_template = ChatPromptTemplate.from_messages([\n",
    "    (\"human\", \"\"\"你是一个答疑机器人，你的任务是根据下面已知信息回答用户的问题。\n",
    "     已知信息：{context}\n",
    "     用户问题：{question}\n",
    "     如果已知信息不包含用户的答案，或者已知信息不足以回答用户的问题，请直接回复“我无法回答您的问题”。\n",
    "     \"\"\")\n",
    "])\n",
    "\n",
    "text = []\n",
    "\n",
    "for segment in relative_segments:\n",
    "    text.append(segment.page_content)\n",
    "\n",
    "prompt = prompt_template.invoke({ \"context\": text, \"question\": \"订单超时了怎么办\" })\n",
    "\n",
    "llm = ChatOpenAI(model=\"gpt-4o-mini\")\n",
    "\n",
    "response = llm.invoke(prompt)\n",
    "\n",
    "response.content"
   ]
  },
  {
   "cell_type": "markdown",
   "metadata": {},
   "source": [
    "## 总结\n",
    "\n",
    "这里我们快速的实现了一个简单的RAG应用，但是，对RAG的思考其实远不止于此。RAG应用的核心是在向AI大模型询问问题时，尽量提供更高质量的参考信息，但是，最终AI大模型给出的回答靠不靠谱，我们却无法保证。颇有点尽人事，听天命的感觉。但是，作为应用开发者，我们是要对最终的答案负责。那么，要如何提高RAG应用的最终质量呢？这就需要我们对RAG的流程重新进行深度思考。这里，不妨再来回顾一下RAG的基础流程，我们重点思考一下几个问题：\n",
    "\n",
    "1. 如何验证RAG应用的质量？\n",
    "\n",
    "样本测试，相似度检查\n",
    "\n",
    "RAGAS\n",
    "\n",
    "2. 如何提升RAG应用的质量？ \n",
    "\n",
    "数据质量高，结构完整\n",
    "\n",
    "文本拆分，拆分章节，设置假设性的问题\n",
    "\n",
    "图片 OCR 识别，生成文字；表格生成 Markdown 格式\n",
    "\n",
    "提升提示词的质量\n",
    "\n",
    "用户问题拆分/转写，拆成多个问题，多个 chain 提问；或者拆分多个步骤（可以让大模型做）\n",
    "\n",
    "检索的结果，相似度高的问题放前面，重新排序，Rerank\n",
    "\n"
   ]
  }
 ],
 "metadata": {
  "kernelspec": {
   "display_name": ".venv",
   "language": "python",
   "name": "python3"
  },
  "language_info": {
   "codemirror_mode": {
    "name": "ipython",
    "version": 3
   },
   "file_extension": ".py",
   "mimetype": "text/x-python",
   "name": "python",
   "nbconvert_exporter": "python",
   "pygments_lexer": "ipython3",
   "version": "3.13.3"
  }
 },
 "nbformat": 4,
 "nbformat_minor": 2
}
